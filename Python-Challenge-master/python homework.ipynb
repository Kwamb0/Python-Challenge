{
 "cells": [
  {
   "cell_type": "code",
   "execution_count": 17,
   "metadata": {},
   "outputs": [
    {
     "name": "stdout",
     "output_type": "stream",
     "text": [
      "Date\n",
      "86\n"
     ]
    },
    {
     "ename": "TypeError",
     "evalue": "unsupported operand type(s) for +: 'int' and 'str'",
     "output_type": "error",
     "traceback": [
      "\u001b[0;31m---------------------------------------------------------------------------\u001b[0m",
      "\u001b[0;31mTypeError\u001b[0m                                 Traceback (most recent call last)",
      "\u001b[0;32m<ipython-input-17-29af04adde0d>\u001b[0m in \u001b[0;36m<module>\u001b[0;34m\u001b[0m\n\u001b[1;32m     24\u001b[0m         \u001b[0mprint\u001b[0m\u001b[0;34m(\u001b[0m\u001b[0mmonths_count\u001b[0m\u001b[0;34m)\u001b[0m\u001b[0;34m\u001b[0m\u001b[0;34m\u001b[0m\u001b[0m\n\u001b[1;32m     25\u001b[0m \u001b[0;34m\u001b[0m\u001b[0m\n\u001b[0;32m---> 26\u001b[0;31m         \u001b[0mnet_profit_loss\u001b[0m \u001b[0;34m=\u001b[0m \u001b[0msum\u001b[0m\u001b[0;34m(\u001b[0m\u001b[0mrow\u001b[0m\u001b[0;34m[\u001b[0m\u001b[0;36m1\u001b[0m\u001b[0;34m]\u001b[0m\u001b[0;34m)\u001b[0m\u001b[0;34m\u001b[0m\u001b[0;34m\u001b[0m\u001b[0m\n\u001b[0m\u001b[1;32m     27\u001b[0m \u001b[0;34m\u001b[0m\u001b[0m\n\u001b[1;32m     28\u001b[0m \u001b[0;34m\u001b[0m\u001b[0m\n",
      "\u001b[0;31mTypeError\u001b[0m: unsupported operand type(s) for +: 'int' and 'str'"
     ]
    }
   ],
   "source": [
    "#imports\n",
    "import csv\n",
    "import os\n",
    "import pandas as pd\n",
    "\n",
    "#open csv\n",
    "csvpath = os.path.join('.', 'resources', '03-Python_Homework_Instructions_PyBank_Resources_budget_data.csv')\n",
    "\n",
    "with open(csvpath, newline='') as csvfile:\n",
    "    csvreader = csv.reader(csvfile, delimiter=',')\n",
    "    #print(csvreader)\n",
    "    \n",
    "    # Read the header row first\n",
    "    csv_header = next(csvreader)\n",
    "    #print(f\"CSV Header: {csv_header}\")\n",
    "\n",
    "    # Read each row of data after the header\n",
    "    for row in csv_header:\n",
    "        print(row)\n",
    "        \n",
    "        months = list(csvreader)\n",
    "        months_count = len(months)\n",
    "        \n",
    "        print(months_count)\n",
    "        \n",
    "        net_profit_loss = sum(row[1])\n",
    "      \n",
    "        \n",
    "\n",
    "        \n",
    "# count rows of csv\n",
    "#df=pd.read_csv(csvpath)\n",
    "\n",
    "#print(df.count())\n",
    "\n",
    "\n",
    "#calculate the net profit/loss\n",
    "\n",
    "#isolate the column variables\n",
    "    #profit_loss = sum()"
   ]
  },
  {
   "cell_type": "code",
   "execution_count": 49,
   "metadata": {},
   "outputs": [
    {
     "name": "stdout",
     "output_type": "stream",
     "text": [
      "Total Months: 86\n",
      "Total: $38382578\n",
      "Average Change: -2288.1976744186045\n",
      "Greatest Increase in Profits:         Date  Profit/Losses  Amount Changed\n",
      "25  Feb-2012        1170593       1926159.0  (1926159.0)\n",
      "Greatest Decrease in Profits:         Date  Profit/Losses  Amount Changed\n",
      "44  Sep-2013       -1196225      -2196167.0 (-2196167.0)\n"
     ]
    }
   ],
   "source": [
    "import pandas as pd\n",
    "\n",
    "\n",
    "csvpath = \"resources/03-Python_Homework_Instructions_PyBank_Resources_budget_data.csv\"\n",
    "\n",
    "bank_df=pd.read_csv(csvpath)\n",
    "bank_df[\"Profit/Losses\"]\n",
    "\n",
    "profit_losses = bank_df[\"Profit/Losses\"]\n",
    "\n",
    "net_profit_loss = sum(profit_losses)\n",
    "\n",
    "months_count = len(bank_df)\n",
    "\n",
    "i=0 \n",
    "y=1\n",
    "average_change_list = []\n",
    "\n",
    "\n",
    "# for loop to add changes between months to a list\n",
    "\n",
    "for row in profit_losses:\n",
    "    while y<86 : \n",
    "        change = profit_losses[y] - profit_losses[i]\n",
    "    \n",
    "        average_change_list.append(change)\n",
    "    \n",
    "        i = i+1\n",
    "        y = y+1\n",
    "    \n",
    "#calculate the average change between month    \n",
    "average_change = sum(average_change_list) / months_count\n",
    "\n",
    "average_change\n",
    "\n",
    "\n",
    "#Read CSV into Panadas and give it a variable name bank_df\n",
    "bank_df = pd.read_csv(csvpath, parse_dates=True)\n",
    "inp_bank_df = pd.DataFrame(bank_df)\n",
    "\n",
    "#Number of month records in the CSV\n",
    "Months = bank_df[\"Date\"].count()\n",
    "\n",
    "#Total amount of money captured in the data converted to currency\n",
    "Total_Funds = '${:.0f}'.format(bank_df[\"Profit/Losses\"].sum())\n",
    "\n",
    "#Determine the amount of increase or decrease from the previous month\n",
    "AmtChange = bank_df[\"Profit/Losses\"].diff()\n",
    "bank_df[\"Amount Changed\"] = AmtChange\n",
    "\n",
    "\n",
    "#Identify the greatest positive change\n",
    "GreatestIncrease = bank_df[\"Amount Changed\"].max()\n",
    "# Gi_Date = bank_df[bank_df[\"Date\"] == GreatestIncrease]\n",
    "Gi_Date = inp_bank_df.loc[bank_df[\"Amount Changed\"] == GreatestIncrease]\n",
    "\n",
    "#Identify the greatest negative change\n",
    "GreatestDecrease = bank_df[\"Amount Changed\"].min()\n",
    "Gd_Date = bank_df[bank_df['Date'] == GreatestDecrease]\n",
    "Gd_Date = inp_bank_df.loc[bank_df[\"Amount Changed\"] == GreatestDecrease]\n",
    "\n",
    "\n",
    "print(f\"Total Months: {Months}\")\n",
    "print(f\"Total: {Total_Funds}\")\n",
    "print(f\"Average Change: {average_change}\")\n",
    "print(f\"Greatest Increase in Profits: {Gi_Date}  ({GreatestIncrease})\")\n",
    "print(f\"Greatest Decrease in Profits: {Gd_Date} ({GreatestDecrease})\")\n"
   ]
  },
  {
   "cell_type": "code",
   "execution_count": 14,
   "metadata": {},
   "outputs": [
    {
     "name": "stdout",
     "output_type": "stream",
     "text": [
      "Khan: 20.00% (704200)\n",
      "Correy: 63.00% (2218231)\n",
      "Li: 14.00% (492940)\n",
      "O'Tooley: 3.00% (105630)\n",
      "-------------------------------------\n",
      "Winner :  Khan\n"
     ]
    }
   ],
   "source": [
    "import os\n",
    "import pandas as pd\n",
    "import csv\n",
    "\n",
    "#PyPoll\n",
    "\n",
    "polldatapath = os.path.join(\".\",\"election_data.csv\")\n",
    "\n",
    "poll_df=pd.read_csv(polldatapath)\n",
    "\n",
    "#Total votes\n",
    "\n",
    "votertotal = poll_df[\"Voter ID\"].count()\n",
    "\n",
    "#A complete list of candidates who received votes\n",
    "\n",
    "candi_name = poll_df[\"Candidate\"].unique()\n",
    "candi_name \n",
    "\n",
    "candi_count = poll_df.groupby(\"Candidate\")\n",
    "candidate_count = candi_count.agg({'Voter ID':\"count\"})[\"Voter ID\"].tolist()\n",
    "\n",
    "percentage = []\n",
    "for i in range(len(candidate_count)):\n",
    "    percentage.append((candidate_count[i]/votertotal))\n",
    "lst = []\n",
    "for i in range(len(candidate_count)):\n",
    "    x= candi_name[i] + \": \" + str(\"{:.2%}\".format(percentage[i])) + \" (\" + str(candidate_count[i]) + \")\"\n",
    "    print(x)\n",
    "    lst.append(x)\n",
    "\n",
    "\n",
    "candidate_winner = candi_count.agg({'Voter ID':\"count\"}).sort_values(by = \"Voter ID\", ascending=False )\n",
    "\n",
    "print(\"-------------------------------------\")\n",
    "print(\"Winner : \", candidate_winner.index[0])\n",
    "\n",
    "# print(f\"Total Votes: {votertotal}\")\n",
    "\n"
   ]
  },
  {
   "cell_type": "code",
   "execution_count": null,
   "metadata": {},
   "outputs": [],
   "source": []
  }
 ],
 "metadata": {
  "kernelspec": {
   "display_name": "Python 3",
   "language": "python",
   "name": "python3"
  },
  "language_info": {
   "codemirror_mode": {
    "name": "ipython",
    "version": 3
   },
   "file_extension": ".py",
   "mimetype": "text/x-python",
   "name": "python",
   "nbconvert_exporter": "python",
   "pygments_lexer": "ipython3",
   "version": "3.7.6"
  }
 },
 "nbformat": 4,
 "nbformat_minor": 4
}
